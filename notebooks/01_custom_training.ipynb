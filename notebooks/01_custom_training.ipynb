{
 "nbformat": 4,
 "nbformat_minor": 0,
 "metadata": {
  "colab": {
   "provenance": [],
   "mount_file_id": "13VvFIxLATGdWv7LH9LE8UfRxDuAZuNQH",
   "authorship_tag": "ABX9TyNM527gq5SIpz1HGPJiykB+"
  },
  "kernelspec": {
   "name": "python3",
   "display_name": "Python 3"
  },
  "language_info": {
   "name": "python"
  }
 },
 "cells": [
  {
   "cell_type": "markdown",
   "source": [
    "## Custom Model Training for Emotion, Age, and Gender Classification"
   ],
   "metadata": {
    "id": "dYmw4nrn5tAQ"
   }
  },
  {
   "cell_type": "markdown",
   "source": [
    "The purpose of this notebook is to perform custom training of three binary classification models using TensorFlow and Keras.\n",
    "\n",
    "* **Emotion model**: This model is used to classify between happy vs sad. It is trained on a subset of the FER-2013 dataset, using only the happy and sad classes. It uses a custom CNN model with greyscale 48x48 images. It is designed to be compact for later deployment for mobile/web environments.\n",
    "* **Age model:** This model is designed for binary classification between adults and elderly. It is trained on the UTKFace dataset. It uses a MobileNetV2-based binary classifier on resized 224×224 RGB images.\n",
    "* **Gender model**: This model is designed for binary classification between male and female. It is trained on the UTKFace dataset, using using MobileNetV2 in the same way as the age model.\n",
    "* The trained models will be saved as .h5 files, and will be converted to TF.js or TFLite in the next phase.\n"
   ],
   "metadata": {
    "id": "oH2xJqRl5zrC"
   }
  },
  {
   "cell_type": "markdown",
   "source": [
    "**1. Setting up the environment**"
   ],
   "metadata": {
    "id": "Vo0fpkSCkDIR"
   }
  },
  {
   "cell_type": "code",
   "source": [
    "!pip install \\\n",
    "  numpy==1.25.2 \\\n",
    "  tensorflow==2.15.0 \\\n",
    "  keras==2.15.0 \\\n",
    "  protobuf==4.25.3 \\\n",
    "  wrapt==1.14.1 \\\n",
    "  ml-dtypes==0.2.0 \\\n",
    "  tensorflow-estimator==2.15.0 \\\n",
    "  tensorboard==2.15.1 \\\n",
    "  --no-deps --force-reinstall"
   ],
   "metadata": {
    "colab": {
     "base_uri": "https://localhost:8080/",
     "height": 1000
    },
    "collapsed": true,
    "id": "erHFUes72JhU",
    "executionInfo": {
     "status": "ok",
     "timestamp": 1754240027121,
     "user_tz": -60,
     "elapsed": 59442,
     "user": {
      "displayName": "L L Berkley",
      "userId": "09256118485292110051"
     }
    },
    "outputId": "d113d5e1-85d3-433c-d3e8-f31b06c89228"
   },
   "outputs": [],
   "execution_count": null
  },
  {
   "cell_type": "code",
   "source": [
    "import numpy as np\n",
    "import tensorflow as tf\n",
    "import keras\n",
    "\n",
    "print(\"✅ NumPy:\", np.__version__)\n",
    "print(\"✅ TensorFlow:\", tf.__version__)\n",
    "print(\"✅ Keras:\", keras.__version__)"
   ],
   "metadata": {
    "colab": {
     "base_uri": "https://localhost:8080/"
    },
    "id": "nYxWt-na1j41",
    "executionInfo": {
     "status": "ok",
     "timestamp": 1754252602153,
     "user_tz": -60,
     "elapsed": 29,
     "user": {
      "displayName": "L L Berkley",
      "userId": "09256118485292110051"
     }
    },
    "outputId": "b61c9037-1903-4023-9056-7eb3ba72c648"
   },
   "execution_count": 35,
   "outputs": [
    {
     "output_type": "stream",
     "name": "stdout",
     "text": [
      "✅ NumPy: 1.25.2\n",
      "✅ TensorFlow: 2.15.0\n",
      "✅ Keras: 2.15.0\n"
     ]
    }
   ]
  },
  {
   "cell_type": "code",
   "source": [
    "import os\n",
    "import cv2\n",
    "import numpy as np\n",
    "import pandas as pd\n",
    "from IPython.display import display\n",
    "import tensorflow as tf\n",
    "import matplotlib.pyplot as plt\n",
    "from sklearn.model_selection import train_test_split\n",
    "from tensorflow.keras.applications import MobileNetV2\n",
    "from tensorflow.keras.models import Model\n",
    "from tensorflow.keras.layers import Dense, GlobalAveragePooling2D, Input\n",
    "from tensorflow.keras.preprocessing.image import ImageDataGenerator\n",
    "from tensorflow.keras import backend as K"
   ],
   "metadata": {
    "id": "vS9vKtW0j_vY",
    "executionInfo": {
     "status": "ok",
     "timestamp": 1754252606008,
     "user_tz": -60,
     "elapsed": 6,
     "user": {
      "displayName": "L L Berkley",
      "userId": "09256118485292110051"
     }
    }
   },
   "execution_count": 36,
   "outputs": []
  },
  {
   "cell_type": "code",
   "source": [
    "import kagglehub\n",
    "\n",
    "# Download latest version FER-2013\n",
    "path = kagglehub.dataset_download(\"msambare/fer2013\")\n",
    "\n",
    "print(\"Path to dataset files:\", path)"
   ],
   "metadata": {
    "id": "xcYQNyuErky-",
    "colab": {
     "base_uri": "https://localhost:8080/"
    },
    "executionInfo": {
     "status": "ok",
     "timestamp": 1754240396432,
     "user_tz": -60,
     "elapsed": 1335,
     "user": {
      "displayName": "L L Berkley",
      "userId": "09256118485292110051"
     }
    },
    "outputId": "c65d783c-3013-476c-d4b9-d4f527e80ce5"
   },
   "execution_count": null,
   "outputs": [
    {
     "output_type": "stream",
     "name": "stdout",
     "text": [
      "Path to dataset files: /kaggle/input/fer2013\n"
     ]
    }
   ]
  },
  {
   "cell_type": "code",
   "source": [
    "!ls /kaggle/input/fer2013/\n"
   ],
   "metadata": {
    "colab": {
     "base_uri": "https://localhost:8080/"
    },
    "id": "v4Z-gwe6LznE",
    "executionInfo": {
     "status": "ok",
     "timestamp": 1754240400144,
     "user_tz": -60,
     "elapsed": 109,
     "user": {
      "displayName": "L L Berkley",
      "userId": "09256118485292110051"
     }
    },
    "outputId": "988a66b6-6e2d-4f52-a3e2-b9dd306f03b4"
   },
   "execution_count": null,
   "outputs": [
    {
     "output_type": "stream",
     "name": "stdout",
     "text": [
      "test  train\n"
     ]
    }
   ]
  },
  {
   "cell_type": "code",
   "source": [
    "# Download latest version UTKFace\n",
    "path = kagglehub.dataset_download(\"jangedoo/utkface-new\")\n",
    "\n",
    "print(\"Path to dataset files:\", path)"
   ],
   "metadata": {
    "id": "KqXHl3L0sUyk",
    "colab": {
     "base_uri": "https://localhost:8080/"
    },
    "executionInfo": {
     "status": "ok",
     "timestamp": 1754242834148,
     "user_tz": -60,
     "elapsed": 2027,
     "user": {
      "displayName": "L L Berkley",
      "userId": "09256118485292110051"
     }
    },
    "outputId": "15309962-32a1-4939-c3b6-89f0eb832ebe"
   },
   "execution_count": null,
   "outputs": [
    {
     "output_type": "stream",
     "name": "stdout",
     "text": [
      "Path to dataset files: /kaggle/input/utkface-new\n"
     ]
    }
   ]
  },
  {
   "cell_type": "code",
   "source": [
    "from google.colab import drive\n",
    "drive.mount('/content/drive')"
   ],
   "metadata": {
    "id": "r6u61jbbwZTV",
    "colab": {
     "base_uri": "https://localhost:8080/"
    },
    "executionInfo": {
     "status": "ok",
     "timestamp": 1754252615426,
     "user_tz": -60,
     "elapsed": 1908,
     "user": {
      "displayName": "L L Berkley",
      "userId": "09256118485292110051"
     }
    },
    "outputId": "148f79b7-669c-4275-b326-a867b60f8d78"
   },
   "execution_count": 38,
   "outputs": [
    {
     "output_type": "stream",
     "name": "stdout",
     "text": [
      "Drive already mounted at /content/drive; to attempt to forcibly remount, call drive.mount(\"/content/drive\", force_remount=True).\n"
     ]
    }
   ]
  },
  {
   "cell_type": "code",
   "source": [
    "# Define paths\n",
    "DRIVE_PATH = \"/content/drive/MyDrive/Edge_AI_Project\"\n",
    "MODEL_PATH = os.path.join(DRIVE_PATH, \"models/saved_models\")\n",
    "LOG_PATH = os.path.join(DRIVE_PATH, \"models/logs\")\n",
    "os.makedirs(MODEL_PATH, exist_ok=True)\n",
    "os.makedirs(LOG_PATH, exist_ok=True)\n",
    "utkface_dir = \"/kaggle/input/utkface-new/UTKFace\"\n",
    "emotion_train_dir = \"/kaggle/input/fer2013/train\"\n",
    "emotion_test_dir = \"/kaggle/input/fer2013/test\""
   ],
   "metadata": {
    "id": "09y6Cr4ZtNBR",
    "executionInfo": {
     "status": "ok",
     "timestamp": 1754252612113,
     "user_tz": -60,
     "elapsed": 21,
     "user": {
      "displayName": "L L Berkley",
      "userId": "09256118485292110051"
     }
    }
   },
   "execution_count": 37,
   "outputs": []
  },
  {
   "cell_type": "markdown",
   "source": [
    "**2. Training the models**"
   ],
   "metadata": {
    "id": "QhMnB_5gthmc"
   }
  },
  {
   "cell_type": "markdown",
   "source": [
    "The training function has been designed to find a balance between accuracy and avoiding RAM usage crashes.\n",
    "We will use a low batch size of 8. The models are trained using 10 epochs. This increases training time, but does increase accuray with minimal impact on RAM usage.\n",
    "The trained models for age, gender and emotion will be saved with performance metrics logged.\n",
    "After training each model, the session will be cleared before the next model is trained."
   ],
   "metadata": {
    "id": "78d4VEKA2Q5B"
   }
  },
  {
   "cell_type": "code",
   "source": [
    "# Load UTKFace subset\n",
    "def load_utkface_subset(data_dir, task='age', max_samples=2000):\n",
    "    data = []\n",
    "    count = 0\n",
    "    for file in os.listdir(data_dir):\n",
    "        if file.endswith('.jpg'):\n",
    "            parts = file.split('_')\n",
    "            if len(parts) < 2: continue\n",
    "            age = int(parts[0])\n",
    "            gender = int(parts[1])\n",
    "            img = cv2.imread(os.path.join(data_dir, file))\n",
    "            if img is None: continue\n",
    "            img = cv2.resize(img, (224, 224))\n",
    "            label = 0 if (task == 'age' and age < 50) else 1 if task == 'age' else gender\n",
    "            data.append((img, label))\n",
    "            count += 1\n",
    "            if count >= max_samples: break\n",
    "    X, y = zip(*data)\n",
    "    return np.array(X).astype('float32') / 255.0, np.array(y)\n",
    "\n",
    "def prepare_data(X, y):\n",
    "    return train_test_split(X, y, test_size=0.2, stratify=y, random_state=42)\n",
    "\n",
    "def build_mobilenet_classifier():\n",
    "    base = MobileNetV2(include_top=False, input_shape=(224, 224, 3), weights='imagenet')\n",
    "    x = GlobalAveragePooling2D()(base.output)\n",
    "    x = Dense(1, activation='sigmoid')(x)\n",
    "    return Model(inputs=base.input, outputs=x)"
   ],
   "metadata": {
    "id": "mkqBmQaQtmn_",
    "executionInfo": {
     "status": "ok",
     "timestamp": 1754252622712,
     "user_tz": -60,
     "elapsed": 13,
     "user": {
      "displayName": "L L Berkley",
      "userId": "09256118485292110051"
     }
    }
   },
   "execution_count": 39,
   "outputs": []
  },
  {
   "cell_type": "code",
   "source": [
    "# Setting up the training and logging function\n",
    "def train_and_log(model, X_train, y_train, X_val, y_val, name, epochs=10):\n",
    "    model.compile(optimizer='adam', loss='binary_crossentropy', metrics=['accuracy'])\n",
    "\n",
    "    if y_train is None and y_val is None:\n",
    "        # If using generators\n",
    "        history = model.fit(\n",
    "            X_train,\n",
    "            validation_data=X_val,\n",
    "            epochs=epochs,\n",
    "            batch_size=8\n",
    "        )\n",
    "    else:\n",
    "        # If using arrays (age/gender)\n",
    "        history = model.fit(\n",
    "            X_train, y_train,\n",
    "            validation_data=(X_val, y_val),\n",
    "            epochs=epochs,\n",
    "            batch_size=8\n",
    "        )\n",
    "\n",
    "    model.save(os.path.join(MODEL_PATH, f\"{name}.h5\"))\n",
    "    print(f\"✅ Saved {name}.h5\")\n",
    "\n",
    "    hist_df = pd.DataFrame(history.history)\n",
    "    hist_df.index.name = 'epoch'\n",
    "    hist_df.to_csv(os.path.join(LOG_PATH, f\"{name}_log.csv\"))\n",
    "    print(f\"✅ Saved {name}_log.csv\")\n",
    "\n",
    "    K.clear_session()\n",
    "    return history\n",
    "\n"
   ],
   "metadata": {
    "id": "zYdzFMsQ-aGy",
    "executionInfo": {
     "status": "ok",
     "timestamp": 1754252625395,
     "user_tz": -60,
     "elapsed": 16,
     "user": {
      "displayName": "L L Berkley",
      "userId": "09256118485292110051"
     }
    }
   },
   "execution_count": 40,
   "outputs": []
  },
  {
   "cell_type": "markdown",
   "source": [
    "**3. Training the Emotion model**"
   ],
   "metadata": {
    "id": "UnP8AH9E5LvB"
   }
  },
  {
   "cell_type": "markdown",
   "source": [
    "The emotion model is designed for binary classification between happy and sad. The original FER2013 dataset contains data for 7 emotions, but we will use only the \"happy\" and \"sad\" subfolders to train the model."
   ],
   "metadata": {
    "id": "TeX9jZ7Svy-L"
   }
  },
  {
   "cell_type": "code",
   "source": [
    "# Build emotion model\n",
    "def build_emotion_model():\n",
    "    inputs = Input(shape=(48, 48, 1))\n",
    "    x = tf.keras.layers.Conv2D(32, (3, 3), padding='same', activation='relu')(inputs)\n",
    "    x = tf.keras.layers.BatchNormalization()(x)\n",
    "    x = tf.keras.layers.Conv2D(64, (3, 3), activation='relu')(x)\n",
    "    x = tf.keras.layers.BatchNormalization()(x)\n",
    "    x = tf.keras.layers.MaxPooling2D()(x)\n",
    "    x = tf.keras.layers.Flatten()(x)\n",
    "    x = tf.keras.layers.Dense(64, activation='relu')(x)\n",
    "    x = tf.keras.layers.Dense(1, activation='sigmoid')(x)\n",
    "    return tf.keras.Model(inputs, x)"
   ],
   "metadata": {
    "id": "Jiol1IXGvJRM"
   },
   "execution_count": null,
   "outputs": []
  },
  {
   "cell_type": "code",
   "source": [
    "import os\n",
    "import shutil\n",
    "\n",
    "# Source paths\n",
    "source_train = \"/kaggle/input/fer2013/train\"\n",
    "source_test = \"/kaggle/input/fer2013/test\"\n",
    "\n",
    "# Target paths\n",
    "target_train = \"/content/emotion_binary/train\"\n",
    "target_test = \"/content/emotion_binary/test\"\n",
    "\n",
    "# Emotion folders to keep\n",
    "target_classes = ['happy', 'sad']\n",
    "\n",
    "for cls in target_classes:\n",
    "    os.makedirs(os.path.join(target_train, cls), exist_ok=True)\n",
    "    os.makedirs(os.path.join(target_test, cls), exist_ok=True)\n",
    "\n",
    "    # Copy training images\n",
    "    src_cls_train = os.path.join(source_train, cls)\n",
    "    tgt_cls_train = os.path.join(target_train, cls)\n",
    "    for fname in os.listdir(src_cls_train):\n",
    "        shutil.copy(os.path.join(src_cls_train, fname), os.path.join(tgt_cls_train, fname))\n",
    "\n",
    "    # Copy test images\n",
    "    src_cls_test = os.path.join(source_test, cls)\n",
    "    tgt_cls_test = os.path.join(target_test, cls)\n",
    "    for fname in os.listdir(src_cls_test):\n",
    "        shutil.copy(os.path.join(src_cls_test, fname), os.path.join(tgt_cls_test, fname))\n",
    "\n",
    "print(\"✅ Filtered dataset created at /content/emotion_binary\")"
   ],
   "metadata": {
    "id": "3gc1oqzXvqFd",
    "colab": {
     "base_uri": "https://localhost:8080/"
    },
    "executionInfo": {
     "status": "ok",
     "timestamp": 1754250466943,
     "user_tz": -60,
     "elapsed": 84490,
     "user": {
      "displayName": "L L Berkley",
      "userId": "09256118485292110051"
     }
    },
    "outputId": "95d0deb8-30ad-484d-df87-792070ff66d3"
   },
   "execution_count": null,
   "outputs": [
    {
     "output_type": "stream",
     "name": "stdout",
     "text": [
      "✅ Filtered dataset created at /content/emotion_binary\n"
     ]
    }
   ]
  },
  {
   "cell_type": "code",
   "source": [
    "emotion_train_dir = \"/content/emotion_binary/train\"\n",
    "emotion_test_dir = \"/content/emotion_binary/test\""
   ],
   "metadata": {
    "id": "aq02pcB6vuJY"
   },
   "execution_count": null,
   "outputs": []
  },
  {
   "cell_type": "code",
   "source": [
    "# Train Emotion Model\n",
    "datagen = ImageDataGenerator(rescale=1./255)\n",
    "train_generator = datagen.flow_from_directory(emotion_train_dir, target_size=(48, 48),\n",
    "    color_mode='grayscale', class_mode='binary', batch_size=8, shuffle=True)\n",
    "test_generator = datagen.flow_from_directory(emotion_test_dir, target_size=(48, 48),\n",
    "    color_mode='grayscale', class_mode='binary', batch_size=8, shuffle=False)\n",
    "\n",
    "emotion_model = build_emotion_model()\n",
    "emotion_history = train_and_log(\n",
    "    emotion_model,\n",
    "    train_generator,\n",
    "    None,  # y_train not needed for generators\n",
    "    test_generator,\n",
    "    None,  # y_val not needed for generators\n",
    "    name='emotion_model'\n",
    ")"
   ],
   "metadata": {
    "id": "fLakdOgk-Yet",
    "executionInfo": {
     "status": "ok",
     "timestamp": 1754252357870,
     "user_tz": -60,
     "elapsed": 1880615,
     "user": {
      "displayName": "L L Berkley",
      "userId": "09256118485292110051"
     }
    },
    "colab": {
     "base_uri": "https://localhost:8080/"
    },
    "outputId": "94389c47-5095-4ec2-f95d-c76295ea3655"
   },
   "execution_count": null,
   "outputs": [
    {
     "output_type": "stream",
     "name": "stdout",
     "text": [
      "Found 12045 images belonging to 2 classes.\n",
      "Found 3021 images belonging to 2 classes.\n",
      "Epoch 1/10\n",
      "1506/1506 [==============================] - 179s 117ms/step - loss: 0.5767 - accuracy: 0.7232 - val_loss: 1.7637 - val_accuracy: 0.5276\n",
      "Epoch 2/10\n",
      "1506/1506 [==============================] - 179s 119ms/step - loss: 0.4581 - accuracy: 0.7739 - val_loss: 0.5779 - val_accuracy: 0.6991\n",
      "Epoch 3/10\n",
      "1506/1506 [==============================] - 176s 117ms/step - loss: 0.3782 - accuracy: 0.8193 - val_loss: 0.4272 - val_accuracy: 0.7905\n",
      "Epoch 4/10\n",
      "1506/1506 [==============================] - 179s 119ms/step - loss: 0.3630 - accuracy: 0.8356 - val_loss: 1105.9163 - val_accuracy: 0.5879\n",
      "Epoch 5/10\n",
      "1506/1506 [==============================] - 189s 125ms/step - loss: 0.3120 - accuracy: 0.8486 - val_loss: 0.4189 - val_accuracy: 0.8136\n",
      "Epoch 6/10\n",
      "1506/1506 [==============================] - 180s 119ms/step - loss: 0.2709 - accuracy: 0.8749 - val_loss: 0.5131 - val_accuracy: 0.7829\n",
      "Epoch 7/10\n",
      "1506/1506 [==============================] - 178s 118ms/step - loss: 0.2278 - accuracy: 0.8945 - val_loss: 0.4893 - val_accuracy: 0.7838\n",
      "Epoch 8/10\n",
      "1506/1506 [==============================] - 179s 119ms/step - loss: 0.1946 - accuracy: 0.9113 - val_loss: 0.6846 - val_accuracy: 0.7951\n",
      "Epoch 9/10\n",
      "1506/1506 [==============================] - 189s 126ms/step - loss: 0.1829 - accuracy: 0.9184 - val_loss: 0.5821 - val_accuracy: 0.7875\n",
      "Epoch 10/10\n",
      "1506/1506 [==============================] - 187s 124ms/step - loss: 0.1575 - accuracy: 0.9278 - val_loss: 0.5478 - val_accuracy: 0.7984\n",
      "✅ Saved emotion_model.h5\n",
      "✅ Saved emotion_model_log.csv\n"
     ]
    },
    {
     "output_type": "stream",
     "name": "stderr",
     "text": [
      "/usr/local/lib/python3.11/dist-packages/keras/src/engine/training.py:3103: UserWarning: You are saving your model as an HDF5 file via `model.save()`. This file format is considered legacy. We recommend using instead the native Keras format, e.g. `model.save('my_model.keras')`.\n",
      "  saving_api.save_model(\n"
     ]
    }
   ]
  },
  {
   "cell_type": "code",
   "source": [
    "import os\n",
    "\n",
    "emotion_model_path = os.path.join(MODEL_PATH, \"emotion_model.h5\")\n",
    "emotion_log_path = os.path.join(LOG_PATH, \"emotion_model_log.csv\")\n",
    "\n",
    "# Check existence\n",
    "model_exists = os.path.exists(emotion_model_path)\n",
    "log_exists = os.path.exists(emotion_log_path)\n",
    "\n",
    "print(\"✅ Emotion model file saved:\" if model_exists else \"❌ Emotion model file NOT found\")\n",
    "print(\"✅ Emotion log file saved:\" if log_exists else \"❌ Emotion log file NOT found\")\n",
    "\n",
    "# Optionally show last row of log\n",
    "if log_exists:\n",
    "    import pandas as pd\n",
    "    df = pd.read_csv(emotion_log_path)\n",
    "    print(\"\\n🔍 Final Epoch Results:\")\n",
    "    display(df.tail(1))\n"
   ],
   "metadata": {
    "colab": {
     "base_uri": "https://localhost:8080/",
     "height": 150
    },
    "id": "9FINXiP3jMin",
    "executionInfo": {
     "status": "ok",
     "timestamp": 1754252406187,
     "user_tz": -60,
     "elapsed": 44,
     "user": {
      "displayName": "L L Berkley",
      "userId": "09256118485292110051"
     }
    },
    "outputId": "4da3a10b-e570-4362-8ccd-cc35a036fc42"
   },
   "execution_count": null,
   "outputs": [
    {
     "output_type": "stream",
     "name": "stdout",
     "text": [
      "✅ Emotion model file saved:\n",
      "✅ Emotion log file saved:\n",
      "\n",
      "🔍 Final Epoch Results:\n"
     ]
    },
    {
     "output_type": "display_data",
     "data": {
      "text/plain": [
       "   epoch      loss  accuracy  val_loss  val_accuracy\n",
       "9      9  0.157471  0.927771  0.547754      0.798411"
      ],
      "text/html": [
       "\n",
       "  <div id=\"df-9bd1cf9f-83ed-472a-8c93-439307b34645\" class=\"colab-df-container\">\n",
       "    <div>\n",
       "<style scoped>\n",
       "    .dataframe tbody tr th:only-of-type {\n",
       "        vertical-align: middle;\n",
       "    }\n",
       "\n",
       "    .dataframe tbody tr th {\n",
       "        vertical-align: top;\n",
       "    }\n",
       "\n",
       "    .dataframe thead th {\n",
       "        text-align: right;\n",
       "    }\n",
       "</style>\n",
       "<table border=\"1\" class=\"dataframe\">\n",
       "  <thead>\n",
       "    <tr style=\"text-align: right;\">\n",
       "      <th></th>\n",
       "      <th>epoch</th>\n",
       "      <th>loss</th>\n",
       "      <th>accuracy</th>\n",
       "      <th>val_loss</th>\n",
       "      <th>val_accuracy</th>\n",
       "    </tr>\n",
       "  </thead>\n",
       "  <tbody>\n",
       "    <tr>\n",
       "      <th>9</th>\n",
       "      <td>9</td>\n",
       "      <td>0.157471</td>\n",
       "      <td>0.927771</td>\n",
       "      <td>0.547754</td>\n",
       "      <td>0.798411</td>\n",
       "    </tr>\n",
       "  </tbody>\n",
       "</table>\n",
       "</div>\n",
       "    <div class=\"colab-df-buttons\">\n",
       "\n",
       "  <div class=\"colab-df-container\">\n",
       "    <button class=\"colab-df-convert\" onclick=\"convertToInteractive('df-9bd1cf9f-83ed-472a-8c93-439307b34645')\"\n",
       "            title=\"Convert this dataframe to an interactive table.\"\n",
       "            style=\"display:none;\">\n",
       "\n",
       "  <svg xmlns=\"http://www.w3.org/2000/svg\" height=\"24px\" viewBox=\"0 -960 960 960\">\n",
       "    <path d=\"M120-120v-720h720v720H120Zm60-500h600v-160H180v160Zm220 220h160v-160H400v160Zm0 220h160v-160H400v160ZM180-400h160v-160H180v160Zm440 0h160v-160H620v160ZM180-180h160v-160H180v160Zm440 0h160v-160H620v160Z\"/>\n",
       "  </svg>\n",
       "    </button>\n",
       "\n",
       "  <style>\n",
       "    .colab-df-container {\n",
       "      display:flex;\n",
       "      gap: 12px;\n",
       "    }\n",
       "\n",
       "    .colab-df-convert {\n",
       "      background-color: #E8F0FE;\n",
       "      border: none;\n",
       "      border-radius: 50%;\n",
       "      cursor: pointer;\n",
       "      display: none;\n",
       "      fill: #1967D2;\n",
       "      height: 32px;\n",
       "      padding: 0 0 0 0;\n",
       "      width: 32px;\n",
       "    }\n",
       "\n",
       "    .colab-df-convert:hover {\n",
       "      background-color: #E2EBFA;\n",
       "      box-shadow: 0px 1px 2px rgba(60, 64, 67, 0.3), 0px 1px 3px 1px rgba(60, 64, 67, 0.15);\n",
       "      fill: #174EA6;\n",
       "    }\n",
       "\n",
       "    .colab-df-buttons div {\n",
       "      margin-bottom: 4px;\n",
       "    }\n",
       "\n",
       "    [theme=dark] .colab-df-convert {\n",
       "      background-color: #3B4455;\n",
       "      fill: #D2E3FC;\n",
       "    }\n",
       "\n",
       "    [theme=dark] .colab-df-convert:hover {\n",
       "      background-color: #434B5C;\n",
       "      box-shadow: 0px 1px 3px 1px rgba(0, 0, 0, 0.15);\n",
       "      filter: drop-shadow(0px 1px 2px rgba(0, 0, 0, 0.3));\n",
       "      fill: #FFFFFF;\n",
       "    }\n",
       "  </style>\n",
       "\n",
       "    <script>\n",
       "      const buttonEl =\n",
       "        document.querySelector('#df-9bd1cf9f-83ed-472a-8c93-439307b34645 button.colab-df-convert');\n",
       "      buttonEl.style.display =\n",
       "        google.colab.kernel.accessAllowed ? 'block' : 'none';\n",
       "\n",
       "      async function convertToInteractive(key) {\n",
       "        const element = document.querySelector('#df-9bd1cf9f-83ed-472a-8c93-439307b34645');\n",
       "        const dataTable =\n",
       "          await google.colab.kernel.invokeFunction('convertToInteractive',\n",
       "                                                    [key], {});\n",
       "        if (!dataTable) return;\n",
       "\n",
       "        const docLinkHtml = 'Like what you see? Visit the ' +\n",
       "          '<a target=\"_blank\" href=https://colab.research.google.com/notebooks/data_table.ipynb>data table notebook</a>'\n",
       "          + ' to learn more about interactive tables.';\n",
       "        element.innerHTML = '';\n",
       "        dataTable['output_type'] = 'display_data';\n",
       "        await google.colab.output.renderOutput(dataTable, element);\n",
       "        const docLink = document.createElement('div');\n",
       "        docLink.innerHTML = docLinkHtml;\n",
       "        element.appendChild(docLink);\n",
       "      }\n",
       "    </script>\n",
       "  </div>\n",
       "\n",
       "\n",
       "    </div>\n",
       "  </div>\n"
      ],
      "application/vnd.google.colaboratory.intrinsic+json": {
       "type": "dataframe",
       "summary": "{\n  \"name\": \"    display(df\",\n  \"rows\": 1,\n  \"fields\": [\n    {\n      \"column\": \"epoch\",\n      \"properties\": {\n        \"dtype\": \"number\",\n        \"std\": null,\n        \"min\": 9,\n        \"max\": 9,\n        \"num_unique_values\": 1,\n        \"samples\": [\n          9\n        ],\n        \"semantic_type\": \"\",\n        \"description\": \"\"\n      }\n    },\n    {\n      \"column\": \"loss\",\n      \"properties\": {\n        \"dtype\": \"number\",\n        \"std\": null,\n        \"min\": 0.1574708670377731,\n        \"max\": 0.1574708670377731,\n        \"num_unique_values\": 1,\n        \"samples\": [\n          0.1574708670377731\n        ],\n        \"semantic_type\": \"\",\n        \"description\": \"\"\n      }\n    },\n    {\n      \"column\": \"accuracy\",\n      \"properties\": {\n        \"dtype\": \"number\",\n        \"std\": null,\n        \"min\": 0.9277708530426024,\n        \"max\": 0.9277708530426024,\n        \"num_unique_values\": 1,\n        \"samples\": [\n          0.9277708530426024\n        ],\n        \"semantic_type\": \"\",\n        \"description\": \"\"\n      }\n    },\n    {\n      \"column\": \"val_loss\",\n      \"properties\": {\n        \"dtype\": \"number\",\n        \"std\": null,\n        \"min\": 0.547754168510437,\n        \"max\": 0.547754168510437,\n        \"num_unique_values\": 1,\n        \"samples\": [\n          0.547754168510437\n        ],\n        \"semantic_type\": \"\",\n        \"description\": \"\"\n      }\n    },\n    {\n      \"column\": \"val_accuracy\",\n      \"properties\": {\n        \"dtype\": \"number\",\n        \"std\": null,\n        \"min\": 0.7984111309051514,\n        \"max\": 0.7984111309051514,\n        \"num_unique_values\": 1,\n        \"samples\": [\n          0.7984111309051514\n        ],\n        \"semantic_type\": \"\",\n        \"description\": \"\"\n      }\n    }\n  ]\n}"
      }
     },
     "metadata": {}
    }
   ]
  },
  {
   "cell_type": "markdown",
   "source": [
    "**4. Training the age and gender models**"
   ],
   "metadata": {
    "id": "oLXp3uSN46jN"
   }
  },
  {
   "cell_type": "code",
   "source": [
    "# Train Age Model\n",
    "age_model = build_mobilenet_classifier()\n",
    "age_history = train_and_log(age_model, X_train, y_train, X_val, y_val, name='age_model')\n",
    "\n",
    "# Train Gender Model\n",
    "gender_model = build_mobilenet_classifier()\n",
    "gender_history = train_and_log(gender_model, X_train, y_train, X_val, y_val, name='gender_model')\n"
   ],
   "metadata": {
    "id": "NcL8tVlm-dsW",
    "executionInfo": {
     "status": "ok",
     "timestamp": 1754258567101,
     "user_tz": -60,
     "elapsed": 5921633,
     "user": {
      "displayName": "L L Berkley",
      "userId": "09256118485292110051"
     }
    },
    "colab": {
     "base_uri": "https://localhost:8080/"
    },
    "outputId": "2233d0ea-a746-4045-ffab-38e84cc2010a"
   },
   "execution_count": 41,
   "outputs": [
    {
     "output_type": "stream",
     "name": "stdout",
     "text": [
      "Epoch 1/10\n",
      "200/200 [==============================] - 314s 1s/step - loss: 0.5301 - accuracy: 0.7481 - val_loss: 4.2809 - val_accuracy: 0.4925\n",
      "Epoch 2/10\n",
      "200/200 [==============================] - 287s 1s/step - loss: 0.4243 - accuracy: 0.8081 - val_loss: 3.0574 - val_accuracy: 0.4900\n",
      "Epoch 3/10\n",
      "200/200 [==============================] - 292s 1s/step - loss: 0.3689 - accuracy: 0.8431 - val_loss: 1.7834 - val_accuracy: 0.5150\n",
      "Epoch 4/10\n",
      "200/200 [==============================] - 297s 1s/step - loss: 0.2907 - accuracy: 0.8844 - val_loss: 0.6400 - val_accuracy: 0.7225\n",
      "Epoch 5/10\n",
      "200/200 [==============================] - 294s 1s/step - loss: 0.2440 - accuracy: 0.9000 - val_loss: 2.3716 - val_accuracy: 0.5150\n",
      "Epoch 6/10\n",
      "200/200 [==============================] - 301s 2s/step - loss: 0.2044 - accuracy: 0.9169 - val_loss: 0.6337 - val_accuracy: 0.8225\n",
      "Epoch 7/10\n",
      "200/200 [==============================] - 293s 1s/step - loss: 0.2097 - accuracy: 0.9300 - val_loss: 0.8154 - val_accuracy: 0.7550\n",
      "Epoch 8/10\n",
      "200/200 [==============================] - 300s 1s/step - loss: 0.1583 - accuracy: 0.9400 - val_loss: 0.7966 - val_accuracy: 0.7300\n",
      "Epoch 9/10\n",
      "200/200 [==============================] - 291s 1s/step - loss: 0.1714 - accuracy: 0.9244 - val_loss: 0.8605 - val_accuracy: 0.7475\n",
      "Epoch 10/10\n",
      "200/200 [==============================] - 301s 2s/step - loss: 0.1436 - accuracy: 0.9475 - val_loss: 1.3954 - val_accuracy: 0.6875\n"
     ]
    },
    {
     "output_type": "stream",
     "name": "stderr",
     "text": [
      "/usr/local/lib/python3.11/dist-packages/keras/src/engine/training.py:3103: UserWarning: You are saving your model as an HDF5 file via `model.save()`. This file format is considered legacy. We recommend using instead the native Keras format, e.g. `model.save('my_model.keras')`.\n",
      "  saving_api.save_model(\n"
     ]
    },
    {
     "output_type": "stream",
     "name": "stdout",
     "text": [
      "✅ Saved age_model.h5\n",
      "✅ Saved age_model_log.csv\n",
      "Epoch 1/10\n",
      "200/200 [==============================] - 321s 1s/step - loss: 0.5716 - accuracy: 0.7362 - val_loss: 1.5533 - val_accuracy: 0.5125\n",
      "Epoch 2/10\n",
      "200/200 [==============================] - 282s 1s/step - loss: 0.4262 - accuracy: 0.8025 - val_loss: 1.2851 - val_accuracy: 0.5425\n",
      "Epoch 3/10\n",
      "200/200 [==============================] - 290s 1s/step - loss: 0.3144 - accuracy: 0.8687 - val_loss: 0.8987 - val_accuracy: 0.6600\n",
      "Epoch 4/10\n",
      "200/200 [==============================] - 289s 1s/step - loss: 0.2805 - accuracy: 0.8831 - val_loss: 0.6934 - val_accuracy: 0.7600\n",
      "Epoch 5/10\n",
      "200/200 [==============================] - 281s 1s/step - loss: 0.2250 - accuracy: 0.9106 - val_loss: 2.4475 - val_accuracy: 0.5825\n",
      "Epoch 6/10\n",
      "200/200 [==============================] - 288s 1s/step - loss: 0.2158 - accuracy: 0.9119 - val_loss: 1.6292 - val_accuracy: 0.6025\n",
      "Epoch 7/10\n",
      "200/200 [==============================] - 291s 1s/step - loss: 0.1714 - accuracy: 0.9319 - val_loss: 0.8463 - val_accuracy: 0.7625\n",
      "Epoch 8/10\n",
      "200/200 [==============================] - 288s 1s/step - loss: 0.1314 - accuracy: 0.9519 - val_loss: 0.9159 - val_accuracy: 0.7325\n",
      "Epoch 9/10\n",
      "200/200 [==============================] - 289s 1s/step - loss: 0.1503 - accuracy: 0.9469 - val_loss: 0.5522 - val_accuracy: 0.8425\n",
      "Epoch 10/10\n",
      "200/200 [==============================] - 296s 1s/step - loss: 0.1057 - accuracy: 0.9619 - val_loss: 1.5487 - val_accuracy: 0.6300\n",
      "✅ Saved gender_model.h5\n",
      "✅ Saved gender_model_log.csv\n"
     ]
    }
   ]
  },
  {
   "cell_type": "markdown",
   "source": [
    "**5. Performance metrics**"
   ],
   "metadata": {
    "id": "EBI89ID94_-z"
   }
  },
  {
   "cell_type": "code",
   "source": [
    "# Print final performance summary table\n",
    "summary = []\n",
    "\n",
    "for name in [\"age_model\", \"gender_model\", \"emotion_model\"]:\n",
    "    log_path = os.path.join(LOG_PATH, f\"{name}_log.csv\")\n",
    "    if os.path.exists(log_path):\n",
    "        df = pd.read_csv(log_path)\n",
    "        final_row = df.iloc[-1]\n",
    "        summary.append({\n",
    "            \"Model\": name.replace(\"_model\", \"\").capitalize(),\n",
    "            \"Val Accuracy\": round(final_row['val_accuracy'], 4),\n",
    "            \"Val Loss\": round(final_row['val_loss'], 4)\n",
    "        })\n",
    "\n",
    "summary_df = pd.DataFrame(summary)\n",
    "display(summary_df)"
   ],
   "metadata": {
    "colab": {
     "base_uri": "https://localhost:8080/",
     "height": 143
    },
    "id": "cfTjsGm-ukDd",
    "executionInfo": {
     "status": "ok",
     "timestamp": 1754258579358,
     "user_tz": -60,
     "elapsed": 45,
     "user": {
      "displayName": "L L Berkley",
      "userId": "09256118485292110051"
     }
    },
    "outputId": "72a6db11-b435-4586-f56d-7f0959113ea6"
   },
   "execution_count": 42,
   "outputs": [
    {
     "output_type": "display_data",
     "data": {
      "text/plain": [
       "     Model  Val Accuracy  Val Loss\n",
       "0      Age        0.6875    1.3954\n",
       "1   Gender        0.6300    1.5487\n",
       "2  Emotion        0.7984    0.5478"
      ],
      "text/html": [
       "\n",
       "  <div id=\"df-61d49232-c811-4ff6-9f0f-219c5c42c47b\" class=\"colab-df-container\">\n",
       "    <div>\n",
       "<style scoped>\n",
       "    .dataframe tbody tr th:only-of-type {\n",
       "        vertical-align: middle;\n",
       "    }\n",
       "\n",
       "    .dataframe tbody tr th {\n",
       "        vertical-align: top;\n",
       "    }\n",
       "\n",
       "    .dataframe thead th {\n",
       "        text-align: right;\n",
       "    }\n",
       "</style>\n",
       "<table border=\"1\" class=\"dataframe\">\n",
       "  <thead>\n",
       "    <tr style=\"text-align: right;\">\n",
       "      <th></th>\n",
       "      <th>Model</th>\n",
       "      <th>Val Accuracy</th>\n",
       "      <th>Val Loss</th>\n",
       "    </tr>\n",
       "  </thead>\n",
       "  <tbody>\n",
       "    <tr>\n",
       "      <th>0</th>\n",
       "      <td>Age</td>\n",
       "      <td>0.6875</td>\n",
       "      <td>1.3954</td>\n",
       "    </tr>\n",
       "    <tr>\n",
       "      <th>1</th>\n",
       "      <td>Gender</td>\n",
       "      <td>0.6300</td>\n",
       "      <td>1.5487</td>\n",
       "    </tr>\n",
       "    <tr>\n",
       "      <th>2</th>\n",
       "      <td>Emotion</td>\n",
       "      <td>0.7984</td>\n",
       "      <td>0.5478</td>\n",
       "    </tr>\n",
       "  </tbody>\n",
       "</table>\n",
       "</div>\n",
       "    <div class=\"colab-df-buttons\">\n",
       "\n",
       "  <div class=\"colab-df-container\">\n",
       "    <button class=\"colab-df-convert\" onclick=\"convertToInteractive('df-61d49232-c811-4ff6-9f0f-219c5c42c47b')\"\n",
       "            title=\"Convert this dataframe to an interactive table.\"\n",
       "            style=\"display:none;\">\n",
       "\n",
       "  <svg xmlns=\"http://www.w3.org/2000/svg\" height=\"24px\" viewBox=\"0 -960 960 960\">\n",
       "    <path d=\"M120-120v-720h720v720H120Zm60-500h600v-160H180v160Zm220 220h160v-160H400v160Zm0 220h160v-160H400v160ZM180-400h160v-160H180v160Zm440 0h160v-160H620v160ZM180-180h160v-160H180v160Zm440 0h160v-160H620v160Z\"/>\n",
       "  </svg>\n",
       "    </button>\n",
       "\n",
       "  <style>\n",
       "    .colab-df-container {\n",
       "      display:flex;\n",
       "      gap: 12px;\n",
       "    }\n",
       "\n",
       "    .colab-df-convert {\n",
       "      background-color: #E8F0FE;\n",
       "      border: none;\n",
       "      border-radius: 50%;\n",
       "      cursor: pointer;\n",
       "      display: none;\n",
       "      fill: #1967D2;\n",
       "      height: 32px;\n",
       "      padding: 0 0 0 0;\n",
       "      width: 32px;\n",
       "    }\n",
       "\n",
       "    .colab-df-convert:hover {\n",
       "      background-color: #E2EBFA;\n",
       "      box-shadow: 0px 1px 2px rgba(60, 64, 67, 0.3), 0px 1px 3px 1px rgba(60, 64, 67, 0.15);\n",
       "      fill: #174EA6;\n",
       "    }\n",
       "\n",
       "    .colab-df-buttons div {\n",
       "      margin-bottom: 4px;\n",
       "    }\n",
       "\n",
       "    [theme=dark] .colab-df-convert {\n",
       "      background-color: #3B4455;\n",
       "      fill: #D2E3FC;\n",
       "    }\n",
       "\n",
       "    [theme=dark] .colab-df-convert:hover {\n",
       "      background-color: #434B5C;\n",
       "      box-shadow: 0px 1px 3px 1px rgba(0, 0, 0, 0.15);\n",
       "      filter: drop-shadow(0px 1px 2px rgba(0, 0, 0, 0.3));\n",
       "      fill: #FFFFFF;\n",
       "    }\n",
       "  </style>\n",
       "\n",
       "    <script>\n",
       "      const buttonEl =\n",
       "        document.querySelector('#df-61d49232-c811-4ff6-9f0f-219c5c42c47b button.colab-df-convert');\n",
       "      buttonEl.style.display =\n",
       "        google.colab.kernel.accessAllowed ? 'block' : 'none';\n",
       "\n",
       "      async function convertToInteractive(key) {\n",
       "        const element = document.querySelector('#df-61d49232-c811-4ff6-9f0f-219c5c42c47b');\n",
       "        const dataTable =\n",
       "          await google.colab.kernel.invokeFunction('convertToInteractive',\n",
       "                                                    [key], {});\n",
       "        if (!dataTable) return;\n",
       "\n",
       "        const docLinkHtml = 'Like what you see? Visit the ' +\n",
       "          '<a target=\"_blank\" href=https://colab.research.google.com/notebooks/data_table.ipynb>data table notebook</a>'\n",
       "          + ' to learn more about interactive tables.';\n",
       "        element.innerHTML = '';\n",
       "        dataTable['output_type'] = 'display_data';\n",
       "        await google.colab.output.renderOutput(dataTable, element);\n",
       "        const docLink = document.createElement('div');\n",
       "        docLink.innerHTML = docLinkHtml;\n",
       "        element.appendChild(docLink);\n",
       "      }\n",
       "    </script>\n",
       "  </div>\n",
       "\n",
       "\n",
       "    <div id=\"df-481245c7-a42f-4c4f-a526-37d3e9ff86cd\">\n",
       "      <button class=\"colab-df-quickchart\" onclick=\"quickchart('df-481245c7-a42f-4c4f-a526-37d3e9ff86cd')\"\n",
       "                title=\"Suggest charts\"\n",
       "                style=\"display:none;\">\n",
       "\n",
       "<svg xmlns=\"http://www.w3.org/2000/svg\" height=\"24px\"viewBox=\"0 0 24 24\"\n",
       "     width=\"24px\">\n",
       "    <g>\n",
       "        <path d=\"M19 3H5c-1.1 0-2 .9-2 2v14c0 1.1.9 2 2 2h14c1.1 0 2-.9 2-2V5c0-1.1-.9-2-2-2zM9 17H7v-7h2v7zm4 0h-2V7h2v10zm4 0h-2v-4h2v4z\"/>\n",
       "    </g>\n",
       "</svg>\n",
       "      </button>\n",
       "\n",
       "<style>\n",
       "  .colab-df-quickchart {\n",
       "      --bg-color: #E8F0FE;\n",
       "      --fill-color: #1967D2;\n",
       "      --hover-bg-color: #E2EBFA;\n",
       "      --hover-fill-color: #174EA6;\n",
       "      --disabled-fill-color: #AAA;\n",
       "      --disabled-bg-color: #DDD;\n",
       "  }\n",
       "\n",
       "  [theme=dark] .colab-df-quickchart {\n",
       "      --bg-color: #3B4455;\n",
       "      --fill-color: #D2E3FC;\n",
       "      --hover-bg-color: #434B5C;\n",
       "      --hover-fill-color: #FFFFFF;\n",
       "      --disabled-bg-color: #3B4455;\n",
       "      --disabled-fill-color: #666;\n",
       "  }\n",
       "\n",
       "  .colab-df-quickchart {\n",
       "    background-color: var(--bg-color);\n",
       "    border: none;\n",
       "    border-radius: 50%;\n",
       "    cursor: pointer;\n",
       "    display: none;\n",
       "    fill: var(--fill-color);\n",
       "    height: 32px;\n",
       "    padding: 0;\n",
       "    width: 32px;\n",
       "  }\n",
       "\n",
       "  .colab-df-quickchart:hover {\n",
       "    background-color: var(--hover-bg-color);\n",
       "    box-shadow: 0 1px 2px rgba(60, 64, 67, 0.3), 0 1px 3px 1px rgba(60, 64, 67, 0.15);\n",
       "    fill: var(--button-hover-fill-color);\n",
       "  }\n",
       "\n",
       "  .colab-df-quickchart-complete:disabled,\n",
       "  .colab-df-quickchart-complete:disabled:hover {\n",
       "    background-color: var(--disabled-bg-color);\n",
       "    fill: var(--disabled-fill-color);\n",
       "    box-shadow: none;\n",
       "  }\n",
       "\n",
       "  .colab-df-spinner {\n",
       "    border: 2px solid var(--fill-color);\n",
       "    border-color: transparent;\n",
       "    border-bottom-color: var(--fill-color);\n",
       "    animation:\n",
       "      spin 1s steps(1) infinite;\n",
       "  }\n",
       "\n",
       "  @keyframes spin {\n",
       "    0% {\n",
       "      border-color: transparent;\n",
       "      border-bottom-color: var(--fill-color);\n",
       "      border-left-color: var(--fill-color);\n",
       "    }\n",
       "    20% {\n",
       "      border-color: transparent;\n",
       "      border-left-color: var(--fill-color);\n",
       "      border-top-color: var(--fill-color);\n",
       "    }\n",
       "    30% {\n",
       "      border-color: transparent;\n",
       "      border-left-color: var(--fill-color);\n",
       "      border-top-color: var(--fill-color);\n",
       "      border-right-color: var(--fill-color);\n",
       "    }\n",
       "    40% {\n",
       "      border-color: transparent;\n",
       "      border-right-color: var(--fill-color);\n",
       "      border-top-color: var(--fill-color);\n",
       "    }\n",
       "    60% {\n",
       "      border-color: transparent;\n",
       "      border-right-color: var(--fill-color);\n",
       "    }\n",
       "    80% {\n",
       "      border-color: transparent;\n",
       "      border-right-color: var(--fill-color);\n",
       "      border-bottom-color: var(--fill-color);\n",
       "    }\n",
       "    90% {\n",
       "      border-color: transparent;\n",
       "      border-bottom-color: var(--fill-color);\n",
       "    }\n",
       "  }\n",
       "</style>\n",
       "\n",
       "      <script>\n",
       "        async function quickchart(key) {\n",
       "          const quickchartButtonEl =\n",
       "            document.querySelector('#' + key + ' button');\n",
       "          quickchartButtonEl.disabled = true;  // To prevent multiple clicks.\n",
       "          quickchartButtonEl.classList.add('colab-df-spinner');\n",
       "          try {\n",
       "            const charts = await google.colab.kernel.invokeFunction(\n",
       "                'suggestCharts', [key], {});\n",
       "          } catch (error) {\n",
       "            console.error('Error during call to suggestCharts:', error);\n",
       "          }\n",
       "          quickchartButtonEl.classList.remove('colab-df-spinner');\n",
       "          quickchartButtonEl.classList.add('colab-df-quickchart-complete');\n",
       "        }\n",
       "        (() => {\n",
       "          let quickchartButtonEl =\n",
       "            document.querySelector('#df-481245c7-a42f-4c4f-a526-37d3e9ff86cd button');\n",
       "          quickchartButtonEl.style.display =\n",
       "            google.colab.kernel.accessAllowed ? 'block' : 'none';\n",
       "        })();\n",
       "      </script>\n",
       "    </div>\n",
       "\n",
       "  <div id=\"id_a353d964-a05d-4921-92df-4c42a1c165e0\">\n",
       "    <style>\n",
       "      .colab-df-generate {\n",
       "        background-color: #E8F0FE;\n",
       "        border: none;\n",
       "        border-radius: 50%;\n",
       "        cursor: pointer;\n",
       "        display: none;\n",
       "        fill: #1967D2;\n",
       "        height: 32px;\n",
       "        padding: 0 0 0 0;\n",
       "        width: 32px;\n",
       "      }\n",
       "\n",
       "      .colab-df-generate:hover {\n",
       "        background-color: #E2EBFA;\n",
       "        box-shadow: 0px 1px 2px rgba(60, 64, 67, 0.3), 0px 1px 3px 1px rgba(60, 64, 67, 0.15);\n",
       "        fill: #174EA6;\n",
       "      }\n",
       "\n",
       "      [theme=dark] .colab-df-generate {\n",
       "        background-color: #3B4455;\n",
       "        fill: #D2E3FC;\n",
       "      }\n",
       "\n",
       "      [theme=dark] .colab-df-generate:hover {\n",
       "        background-color: #434B5C;\n",
       "        box-shadow: 0px 1px 3px 1px rgba(0, 0, 0, 0.15);\n",
       "        filter: drop-shadow(0px 1px 2px rgba(0, 0, 0, 0.3));\n",
       "        fill: #FFFFFF;\n",
       "      }\n",
       "    </style>\n",
       "    <button class=\"colab-df-generate\" onclick=\"generateWithVariable('summary_df')\"\n",
       "            title=\"Generate code using this dataframe.\"\n",
       "            style=\"display:none;\">\n",
       "\n",
       "  <svg xmlns=\"http://www.w3.org/2000/svg\" height=\"24px\"viewBox=\"0 0 24 24\"\n",
       "       width=\"24px\">\n",
       "    <path d=\"M7,19H8.4L18.45,9,17,7.55,7,17.6ZM5,21V16.75L18.45,3.32a2,2,0,0,1,2.83,0l1.4,1.43a1.91,1.91,0,0,1,.58,1.4,1.91,1.91,0,0,1-.58,1.4L9.25,21ZM18.45,9,17,7.55Zm-12,3A5.31,5.31,0,0,0,4.9,8.1,5.31,5.31,0,0,0,1,6.5,5.31,5.31,0,0,0,4.9,4.9,5.31,5.31,0,0,0,6.5,1,5.31,5.31,0,0,0,8.1,4.9,5.31,5.31,0,0,0,12,6.5,5.46,5.46,0,0,0,6.5,12Z\"/>\n",
       "  </svg>\n",
       "    </button>\n",
       "    <script>\n",
       "      (() => {\n",
       "      const buttonEl =\n",
       "        document.querySelector('#id_a353d964-a05d-4921-92df-4c42a1c165e0 button.colab-df-generate');\n",
       "      buttonEl.style.display =\n",
       "        google.colab.kernel.accessAllowed ? 'block' : 'none';\n",
       "\n",
       "      buttonEl.onclick = () => {\n",
       "        google.colab.notebook.generateWithVariable('summary_df');\n",
       "      }\n",
       "      })();\n",
       "    </script>\n",
       "  </div>\n",
       "\n",
       "    </div>\n",
       "  </div>\n"
      ],
      "application/vnd.google.colaboratory.intrinsic+json": {
       "type": "dataframe",
       "variable_name": "summary_df",
       "summary": "{\n  \"name\": \"summary_df\",\n  \"rows\": 3,\n  \"fields\": [\n    {\n      \"column\": \"Model\",\n      \"properties\": {\n        \"dtype\": \"string\",\n        \"num_unique_values\": 3,\n        \"samples\": [\n          \"Age\",\n          \"Gender\",\n          \"Emotion\"\n        ],\n        \"semantic_type\": \"\",\n        \"description\": \"\"\n      }\n    },\n    {\n      \"column\": \"Val Accuracy\",\n      \"properties\": {\n        \"dtype\": \"number\",\n        \"std\": 0.08559947429745114,\n        \"min\": 0.63,\n        \"max\": 0.7984,\n        \"num_unique_values\": 3,\n        \"samples\": [\n          0.6875,\n          0.63,\n          0.7984\n        ],\n        \"semantic_type\": \"\",\n        \"description\": \"\"\n      }\n    },\n    {\n      \"column\": \"Val Loss\",\n      \"properties\": {\n        \"dtype\": \"number\",\n        \"std\": 0.5390929820850326,\n        \"min\": 0.5478,\n        \"max\": 1.5487,\n        \"num_unique_values\": 3,\n        \"samples\": [\n          1.3954,\n          1.5487,\n          0.5478\n        ],\n        \"semantic_type\": \"\",\n        \"description\": \"\"\n      }\n    }\n  ]\n}"
      }
     },
     "metadata": {}
    }
   ]
  },
  {
   "cell_type": "code",
   "source": [
    "# Plot training and validation curves\n",
    "import matplotlib.pyplot as plt\n",
    "\n",
    "def plot_history(log_path, title):\n",
    "    if not os.path.exists(log_path):\n",
    "        print(f\"❌ Log not found for {title}\")\n",
    "        return\n",
    "    df = pd.read_csv(log_path)\n",
    "    epochs = df.index + 1\n",
    "\n",
    "    fig, ax = plt.subplots(1, 2, figsize=(12, 4))\n",
    "    fig.suptitle(f'{title} Model Training Curves')\n",
    "\n",
    "    ax[0].plot(epochs, df['accuracy'], label='Train Accuracy')\n",
    "    ax[0].plot(epochs, df['val_accuracy'], label='Val Accuracy')\n",
    "    ax[0].set_title('Accuracy')\n",
    "    ax[0].set_xlabel('Epoch')\n",
    "    ax[0].set_ylabel('Accuracy')\n",
    "    ax[0].legend()\n",
    "\n",
    "    ax[1].plot(epochs, df['loss'], label='Train Loss')\n",
    "    ax[1].plot(epochs, df['val_loss'], label='Val Loss')\n",
    "    ax[1].set_title('Loss')\n",
    "    ax[1].set_xlabel('Epoch')\n",
    "    ax[1].set_ylabel('Loss')\n",
    "    ax[1].legend()\n",
    "\n",
    "    plt.tight_layout()\n",
    "    plt.show()\n",
    "\n",
    "# Plot for each model\n",
    "for name in [\"age_model\", \"gender_model\", \"emotion_model\"]:\n",
    "    plot_history(os.path.join(LOG_PATH, f\"{name}_log.csv\"), name.replace(\"_model\", \"\").capitalize())\n"
   ],
   "metadata": {
    "colab": {
     "base_uri": "https://localhost:8080/",
     "height": 1000
    },
    "id": "q1M8ETGFuoPH",
    "executionInfo": {
     "status": "ok",
     "timestamp": 1754258602373,
     "user_tz": -60,
     "elapsed": 1683,
     "user": {
      "displayName": "L L Berkley",
      "userId": "09256118485292110051"
     }
    },
    "outputId": "04a4f5d1-a5cd-4f8e-a0ce-3644183b573b"
   },
   "execution_count": 43,
   "outputs": [
    {
     "output_type": "display_data",
     "data": {
      "text/plain": [
       "<Figure size 1200x400 with 2 Axes>"
      ],
      "image/png": "[encoded data removed]"
     },
     "metadata": {}
    },
    {
     "output_type": "display_data",
     "data": {
      "text/plain": [
       "<Figure size 1200x400 with 2 Axes>"
      ],
      "image/png": "[encoded data removed]"
     },
     "metadata": {}
    },
    {
     "output_type": "display_data",
     "data": {
      "text/plain": [
       "<Figure size 1200x400 with 2 Axes>"
      ],
      "image/png": "[encoded data removed]"
     },
     "metadata": {}
    }
   ]
  }
 ]
}
